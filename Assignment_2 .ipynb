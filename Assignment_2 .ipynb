{
  "nbformat": 4,
  "nbformat_minor": 0,
  "metadata": {
    "colab": {
      "provenance": []
    },
    "kernelspec": {
      "name": "python3",
      "display_name": "Python 3"
    },
    "language_info": {
      "name": "python"
    }
  },
  "cells": [
    {
      "cell_type": "markdown",
      "source": [],
      "metadata": {
        "id": "Sydhl8KrCYWp"
      }
    },
    {
      "cell_type": "code",
      "execution_count": null,
      "metadata": {
        "id": "SMUWnF_xihgK",
        "colab": {
          "base_uri": "https://localhost:8080/"
        },
        "outputId": "94148949-1d0a-4d26-f40b-1d9289188633"
      },
      "outputs": [
        {
          "output_type": "stream",
          "name": "stdout",
          "text": [
            "Enter length of squar: 12\n",
            "Enter breadth of squar: 12\n",
            "It is a squar\n"
          ]
        }
      ],
      "source": [
        "length = int(input(\"Enter length of squar: \"))\n",
        "breadth = int(input(\"Enter breadth of squar: \"))\n",
        "if length == breadth:\n",
        "  print(\"It is a squar\")\n",
        "else:\n",
        "  print(\"It is not a squar\")  "
      ]
    },
    {
      "cell_type": "code",
      "source": [
        "length = int (input(\"Enter legth of squar: \"))\n",
        "breadth = int(input(\"Enter breadth of squar: \"))\n",
        "if length == breadth:\n",
        "  print(\"It is a squar\")\n",
        "else:\n",
        "  print(\"It is not a squar\")    "
      ],
      "metadata": {
        "colab": {
          "base_uri": "https://localhost:8080/"
        },
        "id": "z7gHIhdp6uz1",
        "outputId": "4495c247-b53c-46f7-c1ab-ab9069ef84af"
      },
      "execution_count": null,
      "outputs": [
        {
          "output_type": "stream",
          "name": "stdout",
          "text": [
            "Enter legth of squar: 15\n",
            "Enter breadth of squar: 10\n",
            "It is not a squar\n"
          ]
        }
      ]
    },
    {
      "cell_type": "markdown",
      "source": [
        "2. Take three integer values from the user and print the greatest among them."
      ],
      "metadata": {
        "id": "KG75IHhwCH_T"
      }
    },
    {
      "cell_type": "code",
      "source": [
        " num1 = int(input(\"Enter first number: \"))\n",
        "num2 = int(input(\"Enter second number: \"))\n",
        "num3 = int(input(\"Enter third number: \"))\n",
        "\n",
        "if num1 > num2:\n",
        "    if num1 > num3:\n",
        "        print(num1,\"is the largest\")\n",
        "    else:\n",
        "        print(num3,\"is the largest\")\n",
        "else:\n",
        "    if num2 > num3:\n",
        "        print(num2,\"is the largest\")\n",
        "    else:\n",
        "        print(num3,\"is the largest\")\n"
      ],
      "metadata": {
        "colab": {
          "base_uri": "https://localhost:8080/"
        },
        "id": "8YcACg-3-TTM",
        "outputId": "181b3a6c-7afe-4b73-bd00-3beff5fed7a9"
      },
      "execution_count": null,
      "outputs": [
        {
          "output_type": "stream",
          "name": "stdout",
          "text": [
            "Enter first number: 14\n",
            "Enter second number: 35\n",
            "Enter third number: 45\n",
            "45 is the largest\n"
          ]
        }
      ]
    },
    {
      "cell_type": "markdown",
      "source": [
        "3. A student will not be allowed to sit in an exam if his/her attendance is less than 75%."
      ],
      "metadata": {
        "id": "qfNhQd-Dsyum"
      }
    },
    {
      "cell_type": "code",
      "source": [
        "held = int(input('Number of classes held : '))\n",
        "attended = int(input('Number of classes attended : '))\n",
        "\n",
        "attended_ratio = (attended/held) * 100\n",
        "\n",
        "\n",
        "if attended_ratio >= 75:\n",
        "  print('you are allow.')\n",
        "else:\n",
        "  print('You are not allow.')  \n"
      ],
      "metadata": {
        "colab": {
          "base_uri": "https://localhost:8080/"
        },
        "id": "MJYU3f7zP2eS",
        "outputId": "25fac0c0-0824-45b1-8282-c30783add3f9"
      },
      "execution_count": null,
      "outputs": [
        {
          "output_type": "stream",
          "name": "stdout",
          "text": [
            "Number of classes held : 44\n",
            "Number of classes attended : 40\n",
            "you are allow.\n"
          ]
        }
      ]
    },
    {
      "cell_type": "markdown",
      "source": [
        "or"
      ],
      "metadata": {
        "id": "On85zB2ORyTE"
      }
    },
    {
      "cell_type": "code",
      "source": [
        "attendance = 70\n",
        "if attendance < 75:\n",
        "    print(\"You are not allowed to sit in the exam.\")\n",
        "else:\n",
        "    print(\"You are allowed to sit in the exam.\")\n"
      ],
      "metadata": {
        "id": "AtfJRico-THg",
        "colab": {
          "base_uri": "https://localhost:8080/"
        },
        "outputId": "5183f3f0-f9fa-4a32-d4b2-bf3c3620f88d"
      },
      "execution_count": null,
      "outputs": [
        {
          "output_type": "stream",
          "name": "stdout",
          "text": [
            "You are not allowed to sit in the exam.\n"
          ]
        }
      ]
    },
    {
      "cell_type": "markdown",
      "source": [
        "4.A school has the following rules for the grading system:\n",
        "Below 25 – F, 25 to 44 – E, 45 to 49 – D, 50 to 59 – C, 60 to 79 – B, 80 to 89 - A, Above 90 - A+\n",
        "Now, Ask the user to enter marks and print the corresponding grade."
      ],
      "metadata": {
        "id": "7t8yLd3lulpQ"
      }
    },
    {
      "cell_type": "code",
      "source": [
        "marks = int(input(\"Enter your marks: \"))\n",
        "if marks < 25:\n",
        "    print(\"Your grade is F.\")\n",
        "elif marks >= 25 and marks <= 44:\n",
        "    print(\"Your grade is E.\")\n",
        "elif marks >= 45 and marks <= 49:\n",
        "    print(\"Your grade is D.\")\n",
        "elif marks >= 50 and marks <= 59:\n",
        "    print(\"Your grade is C.\")\n",
        "elif marks >= 60 and marks <= 79:\n",
        "    print(\"Your grade is B.\")\n",
        "elif marks >= 80 and marks <= 89:\n",
        "    print(\"Your grade is A.\")\n",
        "else:\n",
        "    print(\"Your grade is A+.\")\n"
      ],
      "metadata": {
        "colab": {
          "base_uri": "https://localhost:8080/"
        },
        "id": "zVt4ol3JuFsn",
        "outputId": "84f4ba13-6249-4573-8e67-3cb1d070ff82"
      },
      "execution_count": null,
      "outputs": [
        {
          "output_type": "stream",
          "name": "stdout",
          "text": [
            "Enter your marks: 55\n",
            "Your grade is C.\n"
          ]
        }
      ]
    },
    {
      "cell_type": "code",
      "source": [
        "marks = int(input(\"Enter your marks: \"))\n",
        "if marks < 25:\n",
        "    print(\"Your grade is F.\")\n",
        "elif marks >= 25 and marks <= 44:\n",
        "    print(\"Your grade is E.\")\n",
        "elif marks >= 45 and marks <= 49:\n",
        "    print(\"Your grade is D.\")\n",
        "elif marks >= 50 and marks <= 59:\n",
        "    print(\"Your grade is C.\")\n",
        "elif marks >= 60 and marks <= 79:\n",
        "    print(\"Your grade is B.\")\n",
        "elif marks >= 80 and marks <= 89:\n",
        "    print(\"Your grade is A.\")\n",
        "else:\n",
        "    print(\"Your grade is A+.\")\n"
      ],
      "metadata": {
        "colab": {
          "base_uri": "https://localhost:8080/"
        },
        "id": "uPrs2KMruFnp",
        "outputId": "2466170a-d3f8-4654-8df4-73c21f49b8d9"
      },
      "execution_count": null,
      "outputs": [
        {
          "output_type": "stream",
          "name": "stdout",
          "text": [
            "Enter your marks: 76\n",
            "Your grade is B.\n"
          ]
        }
      ]
    },
    {
      "cell_type": "code",
      "source": [
        "marks = int(input(\"Enter your marks: \"))\n",
        "if marks < 25:\n",
        "    print(\"Your grade is F.\")\n",
        "elif marks >= 25 and marks <= 44:\n",
        "    print(\"Your grade is E.\")\n",
        "elif marks >= 45 and marks <= 49:\n",
        "    print(\"Your grade is D.\")\n",
        "elif marks >= 50 and marks <= 59:\n",
        "    print(\"Your grade is C.\")\n",
        "elif marks >= 60 and marks <= 79:\n",
        "    print(\"Your grade is B.\")\n",
        "elif marks >= 80 and marks <= 89:\n",
        "    print(\"Your grade is A.\")\n",
        "else:\n",
        "    print(\"Your grade is A+.\")\n"
      ],
      "metadata": {
        "colab": {
          "base_uri": "https://localhost:8080/"
        },
        "id": "tEN7Jt8-uFY8",
        "outputId": "195d65e4-1c14-471e-a11f-4175ac70220c"
      },
      "execution_count": null,
      "outputs": [
        {
          "output_type": "stream",
          "name": "stdout",
          "text": [
            "Enter your marks: 84\n",
            "Your grade is A.\n"
          ]
        }
      ]
    },
    {
      "cell_type": "markdown",
      "source": [
        "5. Print the following pattern using for and while loop.\n",
        "\n",
        "1 2 3 4 5 6 7\n",
        "\n",
        "1 2 3 4 5 6\n",
        "\n",
        "1 2 3 4 5\n",
        "\n",
        "1 2 3 4"
      ],
      "metadata": {
        "id": "I7kZhxO3vA-X"
      }
    },
    {
      "cell_type": "code",
      "source": [
        "# Using for loop\n",
        "for i in range(7, 3, -1):\n",
        "  for j in range(1, i + 1):\n",
        "    print(j, end=\" \")\n",
        "  print()\n"
      ],
      "metadata": {
        "colab": {
          "base_uri": "https://localhost:8080/"
        },
        "id": "onwBNpE0P21o",
        "outputId": "d3f2c2d8-0942-419b-c2fb-912f4c6b0dd7"
      },
      "execution_count": null,
      "outputs": [
        {
          "output_type": "stream",
          "name": "stdout",
          "text": [
            "1 2 3 4 5 6 7 \n",
            "1 2 3 4 5 6 \n",
            "1 2 3 4 5 \n",
            "1 2 3 4 \n"
          ]
        }
      ]
    },
    {
      "cell_type": "code",
      "source": [
        "# Using while loop\n",
        "i = 7\n",
        "while i > 3:\n",
        "  j = 1\n",
        "  while j <= i:\n",
        "    print(j, end=\" \")\n",
        "    j += 1\n",
        "  print()\n",
        "  i -= 1\n"
      ],
      "metadata": {
        "colab": {
          "base_uri": "https://localhost:8080/"
        },
        "id": "00AZ9AX3QDap",
        "outputId": "c3e954a7-02c2-4056-ba28-2d1630314cf1"
      },
      "execution_count": null,
      "outputs": [
        {
          "output_type": "stream",
          "name": "stdout",
          "text": [
            "1 2 3 4 5 6 7 \n",
            "1 2 3 4 5 6 \n",
            "1 2 3 4 5 \n",
            "1 2 3 4 \n"
          ]
        }
      ]
    },
    {
      "cell_type": "markdown",
      "source": [
        "6. Display numbers from -100 to -10 using for loop.\n"
      ],
      "metadata": {
        "id": "4cLiqj7vv4xo"
      }
    },
    {
      "cell_type": "code",
      "source": [
        "for i in range(-100, -9):\n",
        "    print(i, end=\" \")\n"
      ],
      "metadata": {
        "colab": {
          "base_uri": "https://localhost:8080/"
        },
        "id": "3yhozzkgv9Vw",
        "outputId": "b4e15b04-8349-413d-ff27-d0615b877208"
      },
      "execution_count": null,
      "outputs": [
        {
          "output_type": "stream",
          "name": "stdout",
          "text": [
            "-100 -99 -98 -97 -96 -95 -94 -93 -92 -91 -90 -89 -88 -87 -86 -85 -84 -83 -82 -81 -80 -79 -78 -77 -76 -75 -74 -73 -72 -71 -70 -69 -68 -67 -66 -65 -64 -63 -62 -61 -60 -59 -58 -57 -56 -55 -54 -53 -52 -51 -50 -49 -48 -47 -46 -45 -44 -43 -42 -41 -40 -39 -38 -37 -36 -35 -34 -33 -32 -31 -30 -29 -28 -27 -26 -25 -24 -23 -22 -21 -20 -19 -18 -17 -16 -15 -14 -13 -12 -11 -10 "
          ]
        }
      ]
    },
    {
      "cell_type": "markdown",
      "source": [
        "7. Write a program to sum all prime numbers within a range of 10 to 1000."
      ],
      "metadata": {
        "id": "OguDqWXBwIBK"
      }
    },
    {
      "cell_type": "code",
      "source": [
        "def is_prime(n):\n",
        "    if n <= 1:\n",
        "        return False\n",
        "    for i in range(2, n):\n",
        "        if n % i == 0:\n",
        "            return False\n",
        "    return True\n",
        "\n",
        "sum = 0\n",
        "for i in range(10, 1001):\n",
        "    if is_prime(i):\n",
        "        sum += i\n",
        "\n",
        "print(\"The sum of all prime numbers between 10 and 1000 is:\", sum)\n"
      ],
      "metadata": {
        "colab": {
          "base_uri": "https://localhost:8080/"
        },
        "id": "bS8Dv1L6v9ec",
        "outputId": "1cc059be-226b-4548-9bb0-53b393e05d40"
      },
      "execution_count": null,
      "outputs": [
        {
          "output_type": "stream",
          "name": "stdout",
          "text": [
            "The sum of all prime numbers between 10 and 1000 is: 76110\n"
          ]
        }
      ]
    },
    {
      "cell_type": "markdown",
      "source": [
        "8. Find the factorial of an n! (Hint, n=7: 7*6*5*4*3*2*1)."
      ],
      "metadata": {
        "id": "Ru75EC6hwU5r"
      }
    },
    {
      "cell_type": "code",
      "source": [
        "n = 7\n",
        "factorial = 1\n",
        "\n",
        "if n < 0:\n",
        "    print(\"Sorry, factorial does not exist for negative numbers.\")\n",
        "elif n == 0:\n",
        "    print(\"The factorial of 0 is 1.\")\n",
        "else:\n",
        "    for i in range(1, n+1):\n",
        "        factorial *= i\n",
        "    print(\"The factorial of\", n, \"is\", factorial)\n"
      ],
      "metadata": {
        "colab": {
          "base_uri": "https://localhost:8080/"
        },
        "id": "jJsBsbP0wYk2",
        "outputId": "8995dd3b-ce6a-4f32-9863-c72c1424bf20"
      },
      "execution_count": null,
      "outputs": [
        {
          "output_type": "stream",
          "name": "stdout",
          "text": [
            "The factorial of 7 is 5040\n"
          ]
        }
      ]
    },
    {
      "cell_type": "markdown",
      "source": [
        "9. Reverse a given integer number 27956240710."
      ],
      "metadata": {
        "id": "sfWxrIJ3whla"
      }
    },
    {
      "cell_type": "code",
      "source": [
        "number = 27956240710\n",
        "reverse = 0\n",
        "\n",
        "while number > 0:\n",
        "    remainder = number % 10\n",
        "    reverse = (reverse * 10) + remainder\n",
        "    number = number // 10\n",
        "\n",
        "print(\"The reversed number is:\", reverse)\n"
      ],
      "metadata": {
        "colab": {
          "base_uri": "https://localhost:8080/"
        },
        "id": "5RPLRM6swmYy",
        "outputId": "4824152b-830a-4d6f-d9fe-b439f6c94bf2"
      },
      "execution_count": null,
      "outputs": [
        {
          "output_type": "stream",
          "name": "stdout",
          "text": [
            "The reversed number is: 1704265972\n"
          ]
        }
      ]
    },
    {
      "cell_type": "markdown",
      "source": [
        "10. Print the following pattern using for and while loop.\n",
        "# # #\n",
        "# # # #\n",
        "# # #\n",
        "# #"
      ],
      "metadata": {
        "id": "BA8WuYSWwt2X"
      }
    },
    {
      "cell_type": "code",
      "source": [
        "for i in range(1, 4):\n",
        "    for j in range(1, i+1):\n",
        "        print(\"#\", end=\" \")\n",
        "    print()\n",
        "\n",
        "for i in range(2, 0, -1):\n",
        "    for j in range(1, i+1):\n",
        "        print(\"#\", end=\" \")\n",
        "    print()\n"
      ],
      "metadata": {
        "colab": {
          "base_uri": "https://localhost:8080/"
        },
        "id": "jy7DBiFQwz2i",
        "outputId": "519be6b7-fff1-47ba-c222-b36fb3d2eb58"
      },
      "execution_count": null,
      "outputs": [
        {
          "output_type": "stream",
          "name": "stdout",
          "text": [
            "# \n",
            "# # \n",
            "# # # \n",
            "# # \n",
            "# \n"
          ]
        }
      ]
    },
    {
      "cell_type": "code",
      "source": [
        "i = 1\n",
        "while i <= 3:\n",
        "    j = 1\n",
        "    while j <= i:\n",
        "        print(\"#\", end=\" \")\n",
        "        j += 1\n",
        "    print()\n",
        "    i += 1\n",
        "\n",
        "i = 2\n",
        "while i >= 0:\n",
        "    j = 1\n",
        "    while j <= i+1:\n",
        "        print(\"#\", end=\" \")\n",
        "        j += 1\n",
        "    print()\n",
        "    i -= 1\n"
      ],
      "metadata": {
        "colab": {
          "base_uri": "https://localhost:8080/"
        },
        "id": "vda_0vM2w7Gn",
        "outputId": "9cfd9e82-9d6b-4c83-c306-ae2d3f8de3fb"
      },
      "execution_count": null,
      "outputs": [
        {
          "output_type": "stream",
          "name": "stdout",
          "text": [
            "# \n",
            "# # \n",
            "# # # \n",
            "# # # \n",
            "# # \n",
            "# \n"
          ]
        }
      ]
    },
    {
      "cell_type": "markdown",
      "source": [
        "11. Display the Fibonacci series of 15 elements using the for and while loop."
      ],
      "metadata": {
        "id": "4YZPKULjxA0G"
      }
    },
    {
      "cell_type": "code",
      "source": [
        "n = 15\n",
        "a = 0\n",
        "b = 1\n",
        "\n",
        "if n <= 0:\n",
        "    print(\"Please enter a positive integer.\")\n",
        "elif n == 1:\n",
        "    print(\"Fibonacci sequence upto\", n, \":\")\n",
        "    print(a)\n",
        "else:\n",
        "    print(\"Fibonacci sequence:\")\n",
        "    for i in range(n):\n",
        "        print(a, end=\" \")\n",
        "        c = a + b\n",
        "        a = b\n",
        "        b = c\n"
      ],
      "metadata": {
        "colab": {
          "base_uri": "https://localhost:8080/"
        },
        "id": "SqextFPYxD6T",
        "outputId": "5cde47fb-c4aa-48bc-8b86-38304eeaa5fa"
      },
      "execution_count": null,
      "outputs": [
        {
          "output_type": "stream",
          "name": "stdout",
          "text": [
            "Fibonacci sequence:\n",
            "0 1 1 2 3 5 8 13 21 34 55 89 144 233 377 "
          ]
        }
      ]
    },
    {
      "cell_type": "code",
      "source": [
        "n = 15\n",
        "a = 0\n",
        "b = 1\n",
        "\n",
        "if n <= 0:\n",
        "    print(\"Please enter a positive integer.\")\n",
        "elif n == 1:\n",
        "    print(\"Fibonacci sequence upto\", n, \":\")\n",
        "    print(a)\n",
        "else:\n",
        "    print(\"Fibonacci sequence:\")\n",
        "    for i in range(n):\n",
        "        print(a, end=\" \")\n",
        "        c = a + b\n",
        "        a = b\n",
        "        b = c\n"
      ],
      "metadata": {
        "colab": {
          "base_uri": "https://localhost:8080/"
        },
        "id": "5qyt46NxxO1-",
        "outputId": "0c6a6d07-c1bb-4834-b90b-3aa39e3b54ab"
      },
      "execution_count": null,
      "outputs": [
        {
          "output_type": "stream",
          "name": "stdout",
          "text": [
            "Fibonacci sequence:\n",
            "0 1 1 2 3 5 8 13 21 34 55 89 144 233 377 "
          ]
        }
      ]
    },
    {
      "cell_type": "markdown",
      "source": [
        "12. Remove 2 and add 3 to the list and replace True with False.\n",
        "\n",
        "Li = [1,3,5, [2,3], True]\n",
        "\n",
        "Output = [1,3,5, [3,3], False]"
      ],
      "metadata": {
        "id": "QYekPfOIxT2y"
      }
    },
    {
      "cell_type": "code",
      "source": [
        "Li = [1, 3, 5, [2, 3], True]\n",
        "\n",
        "for i in range(len(Li)):\n",
        "    if Li[i] == 2:\n",
        "        Li[i] = 3\n",
        "    elif Li[i] == True:\n",
        "        Li[i] = False\n",
        "\n",
        "Li[3][0] = 3\n",
        "Li.remove(3)\n",
        "\n",
        "print(\"Output =\", Li)\n",
        "\n"
      ],
      "metadata": {
        "colab": {
          "base_uri": "https://localhost:8080/"
        },
        "id": "FIQ5XuBCxl5g",
        "outputId": "f0030e6c-e730-48bf-b188-8d79b83601b6"
      },
      "execution_count": null,
      "outputs": [
        {
          "output_type": "stream",
          "name": "stdout",
          "text": [
            "Output = [False, 5, [3, 3], False]\n"
          ]
        }
      ]
    },
    {
      "cell_type": "markdown",
      "source": [
        "13. Find the intersection (common) of two sets.\n",
        "\n",
        "S1 = {1,4,6,8}\n",
        "\n",
        "S2 = {True, 1,2,10}"
      ],
      "metadata": {
        "id": "2UMzHMh7x5Pk"
      }
    },
    {
      "cell_type": "code",
      "source": [
        "S1 = {1, 4, 6, 8}\n",
        "S2 = {True, 1, 2, 10}\n",
        "\n",
        "intersection = S1.intersection(S2)\n",
        "\n",
        "print(\"Intersection of S1 and S2 is:\", intersection)\n"
      ],
      "metadata": {
        "colab": {
          "base_uri": "https://localhost:8080/"
        },
        "id": "l2epVyKwx7uB",
        "outputId": "60be7e7b-94aa-4b52-e40d-af178b230dc6"
      },
      "execution_count": null,
      "outputs": [
        {
          "output_type": "stream",
          "name": "stdout",
          "text": [
            "Intersection of S1 and S2 is: {True}\n"
          ]
        }
      ]
    },
    {
      "cell_type": "code",
      "source": [
        "S1 = {1, 4, 6, 8}\n",
        "S2 = {False, 1, 2, 10}\n",
        "\n",
        "intersection = S1.intersection(S2)\n",
        "\n",
        "print(\"Intersection of S1 and S2 is:\", intersection)"
      ],
      "metadata": {
        "colab": {
          "base_uri": "https://localhost:8080/"
        },
        "id": "30qETSsN_jeF",
        "outputId": "e383aa95-dd4c-4272-fa5a-9e79e847b702"
      },
      "execution_count": null,
      "outputs": [
        {
          "output_type": "stream",
          "name": "stdout",
          "text": [
            "Intersection of S1 and S2 is: {1}\n"
          ]
        }
      ]
    },
    {
      "cell_type": "markdown",
      "source": [
        "14. Input a list from the user then Remove duplicates from a list and create a \n",
        "set and find the max\n",
        "number. User_input = [1,9,3,4,5,200,54]"
      ],
      "metadata": {
        "id": "fsrNWtllx_gQ"
      }
    },
    {
      "cell_type": "code",
      "source": [
        "user_input = [1, 9, 3, 4, 5, 200, 54]\n",
        "\n",
        "unique_list = list(set(user_input))\n",
        "max_number = max(unique_list)\n",
        "\n",
        "print(\"List after removing duplicates:\", unique_list)\n",
        "print(\"Maximum number in the list is:\", max_number)\n"
      ],
      "metadata": {
        "colab": {
          "base_uri": "https://localhost:8080/"
        },
        "id": "d-IvyxGeyF1j",
        "outputId": "a4033110-1a88-4d53-f094-abeae825b1e3"
      },
      "execution_count": null,
      "outputs": [
        {
          "output_type": "stream",
          "name": "stdout",
          "text": [
            "List after removing duplicates: [1, 3, 4, 5, 200, 9, 54]\n",
            "Maximum number in the list is: 200\n"
          ]
        }
      ]
    },
    {
      "cell_type": "markdown",
      "source": [
        "15. Rename the key of a dictionary.\n",
        "Dict = { \"name\": \"Shakil\", \"age\":27, \"city\": “Berlin”, \"country\": \"Germany\" }\n",
        "Write a program to rename a key ‘country’ to a ‘region’ in the following dictionary."
      ],
      "metadata": {
        "id": "0omcDVftyS6x"
      }
    },
    {
      "cell_type": "code",
      "source": [
        "Dict = {\"name\": \"Shakil\", \"age\": 27, \"city\": \"Berlin\", \"country\": \"Germany\"}\n",
        "\n",
        "Dict[\"region\"] = Dict.pop(\"country\")\n",
        "\n",
        "print(\"Dictionary after renaming the key:\", Dict)\n"
      ],
      "metadata": {
        "colab": {
          "base_uri": "https://localhost:8080/"
        },
        "id": "vKi6XSxvyUC8",
        "outputId": "89aa77bc-0aa9-4938-f927-8c6cc0101633"
      },
      "execution_count": null,
      "outputs": [
        {
          "output_type": "stream",
          "name": "stdout",
          "text": [
            "Dictionary after renaming the key: {'name': 'Shakil', 'age': 27, 'city': 'Berlin', 'region': 'Germany'}\n"
          ]
        }
      ]
    },
    {
      "cell_type": "markdown",
      "source": [
        "16. Creating a data frame using the list.\n",
        "num = [10,100,300] (column name is number)"
      ],
      "metadata": {
        "id": "_O7uNFSCycjb"
      }
    },
    {
      "cell_type": "code",
      "source": [
        "import pandas as pd\n",
        "\n",
        "num = [10, 100, 300]\n",
        "\n",
        "df = pd.DataFrame({\"number\": num})\n",
        "\n",
        "print(df)\n"
      ],
      "metadata": {
        "id": "ZCbn_QxcypQD",
        "outputId": "0ac71384-5e7c-4bc0-b5a6-7f2b1d18a06f",
        "colab": {
          "base_uri": "https://localhost:8080/"
        }
      },
      "execution_count": null,
      "outputs": [
        {
          "output_type": "stream",
          "name": "stdout",
          "text": [
            "   number\n",
            "0      10\n",
            "1     100\n",
            "2     300\n"
          ]
        }
      ]
    },
    {
      "cell_type": "markdown",
      "source": [
        "17. Change the value of a key in a given dictionary.\n",
        "Write a Python program to change ‘age’ to 28 in the following dictionary.\n",
        "Dict = { \"name\": \"Shakil\", \"age\":27, \"city\": “Berlin”, \"country\": \"Germany\" }"
      ],
      "metadata": {
        "id": "oQk-StS0yitl"
      }
    },
    {
      "cell_type": "code",
      "source": [
        "Dict = {\"name\": \"Shakil\", \"age\": 27, \"city\": \"Berlin\", \"country\": \"Germany\"}\n",
        "\n",
        "Dict[\"age\"] = 28\n",
        "\n",
        "print(\"Dictionary after changing the value of key 'age':\", Dict)\n"
      ],
      "metadata": {
        "colab": {
          "base_uri": "https://localhost:8080/"
        },
        "id": "R99Tfx31yliz",
        "outputId": "17568779-5cee-4789-9f80-3b0cc36862bf"
      },
      "execution_count": null,
      "outputs": [
        {
          "output_type": "stream",
          "name": "stdout",
          "text": [
            "Dictionary after changing the value of key 'age': {'name': 'Shakil', 'age': 28, 'city': 'Berlin', 'country': 'Germany'}\n"
          ]
        }
      ]
    }
  ]
}